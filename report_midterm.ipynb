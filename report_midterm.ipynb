{
 "cells": [
  {
   "cell_type": "markdown",
   "id": "6741847b-f8fa-408c-af79-f7452bfae70b",
   "metadata": {},
   "source": [
    "## Báo cáo giữa kỳ\n",
    ">Đây là báo cáo giữa kỳ bản nháp, bản word sẽ xuất ra sau"
   ]
  },
  {
   "cell_type": "markdown",
   "id": "8d68c6ad-4d46-4bb0-9503-7a730c0f7b77",
   "metadata": {},
   "source": [
    "### 1. Giới thiệu đồ án"
   ]
  },
  {
   "cell_type": "markdown",
   "id": "e36650df",
   "metadata": {},
   "source": []
  },
  {
   "cell_type": "markdown",
   "id": "64d75965",
   "metadata": {},
   "source": [
    "### 2. Mục tiêu"
   ]
  },
  {
   "cell_type": "markdown",
   "id": "0e85cbd0",
   "metadata": {},
   "source": []
  },
  {
   "cell_type": "markdown",
   "id": "4e4a7594",
   "metadata": {},
   "source": [
    "### 3. Các công việc cần làm và phải làm"
   ]
  },
  {
   "cell_type": "markdown",
   "id": "82e6cf8d",
   "metadata": {},
   "source": []
  }
 ],
 "metadata": {
  "kernelspec": {
   "display_name": "Python 3 (ipykernel)",
   "language": "python",
   "name": "python3"
  },
  "language_info": {
   "codemirror_mode": {
    "name": "ipython",
    "version": 3
   },
   "file_extension": ".py",
   "mimetype": "text/x-python",
   "name": "python",
   "nbconvert_exporter": "python",
   "pygments_lexer": "ipython3",
   "version": "3.12.1"
  }
 },
 "nbformat": 4,
 "nbformat_minor": 5
}
