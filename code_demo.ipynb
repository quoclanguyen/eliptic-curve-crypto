{
 "cells": [
  {
   "cell_type": "markdown",
   "id": "6741847b-f8fa-408c-af79-f7452bfae70b",
   "metadata": {},
   "source": [
    "## Eliptic curve for cryptography"
   ]
  },
  {
   "cell_type": "markdown",
   "id": "8d68c6ad-4d46-4bb0-9503-7a730c0f7b77",
   "metadata": {},
   "source": [
    "### 1. Cơ sở lý thuyết"
   ]
  },
  {
   "cell_type": "markdown",
   "id": "8be75860-d989-40b5-bc30-0a1e8e9bcb6f",
   "metadata": {},
   "source": []
  },
  {
   "cell_type": "code",
   "execution_count": null,
   "id": "db908020-9d3a-4493-9f46-8064283d15f7",
   "metadata": {},
   "outputs": [],
   "source": []
  },
  {
   "cell_type": "code",
   "execution_count": null,
   "id": "4e00a74a-0b08-4135-ba52-bbf0f9e48809",
   "metadata": {},
   "outputs": [],
   "source": []
  },
  {
   "cell_type": "markdown",
   "id": "c3d04123-d8b2-410d-b2b0-f0ab3e1b5a4c",
   "metadata": {},
   "source": [
    "### 2. Code demo"
   ]
  },
  {
   "cell_type": "markdown",
   "id": "47e85b07-90dd-4fef-8c5e-6966c3495933",
   "metadata": {},
   "source": [
    "Đầu tiên, ta định nghĩa class ECC:"
   ]
  },
  {
   "cell_type": "code",
   "execution_count": 7,
   "id": "42a46a48-9279-483a-93d8-2bea5fd59b64",
   "metadata": {},
   "outputs": [],
   "source": [
    "class EC:\n",
    "    a = 'null'\n",
    "    b = 'null'\n",
    "    p = 'null'\n",
    "    def __init__(self, a, b, p):\n",
    "        if 4*(a**3)+27*(b**2) == 0:\n",
    "            raise ValueError(\"4a^3 + 27b^2 must be non zero value\")\n",
    "        self.a = a\n",
    "        self.b = b\n",
    "        self.p = p\n",
    "    def __str__(self):\n",
    "        return f\"ECC: (a, b) = ({self.a}, {self.b}); p = {self.p}\"\n",
    "    def calc(self, x):\n",
    "        return (x**3 + self.a*x + self.b) % self.p\n",
    "class ECP:\n",
    "    def __init__(self, x, y, EC):\n",
    "        self.x = x\n",
    "        self.y = y\n",
    "        self.EC = EC\n",
    "    def __str__(self):\n",
    "        return f'({self.x}, {self.y})'\n",
    "    def __add__(self, Q):\n",
    "        # Point at infinity\n",
    "        O = ECP(0, 0, self.EC)\n",
    "        p = self.EC.p\n",
    "        a = self.EC.a\n",
    "        # Get P and Q coordinate\n",
    "        xp, yp = self.x, self.y\n",
    "        xq, yq = Q.x, Q.y\n",
    "        \n",
    "        if xp == 0 and yp == 0:\n",
    "            return Q\n",
    "        if xq == 0 and yq == 0:\n",
    "            return self\n",
    "        if xp == xq and (yp + yq) % p == 0:\n",
    "            return O\n",
    "        \n",
    "        if xp == xq and yp == yq:\n",
    "            s = ((3*(xp**2) + a) * pow(2*yp, -1, p)) % p\n",
    "        else:\n",
    "            s = ((yp - yq) * pow((xp - xq), -1, p)) % p\n",
    "        \n",
    "        # Calculate R\n",
    "        xr = (s**2 - xp - xq) % p\n",
    "        yr = (-yp + s*(xp - xr)) % p\n",
    "        R = ECP(xr, yr, self.EC)\n",
    "        return R\n",
    "    def __mul__(self, n):\n",
    "        Q = self\n",
    "        R = ECP(0, 0, self.EC)\n",
    "        while n > 0:\n",
    "            if n % 2 == 1:\n",
    "                R = R + Q\n",
    "            Q = Q + Q\n",
    "            n = n // 2\n",
    "        return R\n",
    "    def __rmul__(self, n):\n",
    "        return self * n"
   ]
  },
  {
   "cell_type": "markdown",
   "id": "adc840c5-caf4-43ea-ab5c-8962656a724c",
   "metadata": {},
   "source": [
    "Ví dụ minh hoạ:"
   ]
  },
  {
   "cell_type": "code",
   "execution_count": 84,
   "id": "c9ad72eb-5b7a-423e-9d30-203639ebc1c1",
   "metadata": {},
   "outputs": [
    {
     "name": "stdout",
     "output_type": "stream",
     "text": [
      "ECC: (a, b) = (1, 2); p = 11\n"
     ]
    }
   ],
   "source": [
    "ec = EC(1, 2, 11)\n",
    "print(ec)"
   ]
  },
  {
   "cell_type": "code",
   "execution_count": 91,
   "id": "8c255db9-1faf-4805-8e7a-7cfc0dad6c3b",
   "metadata": {},
   "outputs": [
    {
     "name": "stdout",
     "output_type": "stream",
     "text": [
      "p + 2*q = (8, 7)\n",
      "3*q + q*5 + 11*q = (2, 9)\n",
      "19*q = (2, 9)\n"
     ]
    }
   ],
   "source": [
    "p = ECP(3, 4, ec)\n",
    "q = ECP(7, 5, ec)\n",
    "print('p + 2*q =', p + 2*q)\n",
    "print('3*q + q*5 + 11*q =', 3*q + q*5 + 11*q)\n",
    "print('19*q =', 19*q)"
   ]
  },
  {
   "cell_type": "markdown",
   "id": "c562514a-aa85-4949-8f35-6446eb946203",
   "metadata": {},
   "source": [
    "Cho $E = \\{Y^2 = X^3 + 497 X + 1768\\}, p = 9739, G = (1804,5368)$  \n",
    "Giả sử Alice có khoá $n_A$, Bob có khoá $n_B$ và 2 người thoả thuận về $E, p, G$ như trên.  \n",
    "Alice và Bob trao đổi tin như sau: \n",
    "* Alice sẽ tính $Q_A = n_A G$, còn Bob sẽ tính $Q_B = n_B G$\n",
    "* Sau đó Alice gửi $Q_A$ cho Bob, còn Bob gửi $Q_B$ cho Alice  \n",
    "* Ta gọi $S=n_B Q_A = n_A Q_B$. $S$ là tin nhắn bí mật (*shared secret*) được chia sẻ giữa 2 người  \n",
    "\n",
    "Giả sử ở phía Bob nhận được thông tin như sau: $Q_A = (815, 3190)$, $n_B = 1829$"
   ]
  },
  {
   "cell_type": "code",
   "execution_count": 8,
   "id": "c0eeaa11-7179-4fa4-8262-d248fe7c9627",
   "metadata": {},
   "outputs": [
    {
     "name": "stdout",
     "output_type": "stream",
     "text": [
      "(7929, 707)\n",
      "(4221, 4874)\n"
     ]
    }
   ],
   "source": [
    "# Thiết lập các biến\n",
    "ec = EC(497, 1768, 9739)\n",
    "G = ECP(1804, 5368, ec)\n",
    "Q_a = ECP(815, 3190, ec)\n",
    "nb = 1829\n",
    "S = Q_a * nb\n",
    "print(S)\n",
    "print(nb*G)"
   ]
  },
  {
   "cell_type": "code",
   "execution_count": 12,
   "id": "92ce2df1-5a34-4bf4-96c4-e66bbe69f3f8",
   "metadata": {},
   "outputs": [
    {
     "name": "stdout",
     "output_type": "stream",
     "text": [
      "(5796, 9371)\n"
     ]
    }
   ],
   "source": [
    "Q_x = 4726\n",
    "nb = 6534\n",
    "Q_y = pow(ec.calc(Q_x),-2,ec.p)\n",
    "Q_a = ECP(Q_x, Q_y, ec)\n",
    "S = Q_a * nb\n",
    "print(S)"
   ]
  },
  {
   "cell_type": "code",
   "execution_count": null,
   "id": "a333cba5-e027-4ea0-b184-ddcfbf4da086",
   "metadata": {},
   "outputs": [],
   "source": []
  }
 ],
 "metadata": {
  "kernelspec": {
   "display_name": "Python 3 (ipykernel)",
   "language": "python",
   "name": "python3"
  },
  "language_info": {
   "codemirror_mode": {
    "name": "ipython",
    "version": 3
   },
   "file_extension": ".py",
   "mimetype": "text/x-python",
   "name": "python",
   "nbconvert_exporter": "python",
   "pygments_lexer": "ipython3",
   "version": "3.12.1"
  }
 },
 "nbformat": 4,
 "nbformat_minor": 5
}
